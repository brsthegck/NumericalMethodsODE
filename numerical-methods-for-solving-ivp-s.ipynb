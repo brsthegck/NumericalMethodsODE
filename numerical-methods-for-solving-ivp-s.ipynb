{
 "cells": [
  {
   "cell_type": "markdown",
   "id": "4d29585b",
   "metadata": {
    "execution": {
     "iopub.execute_input": "2022-05-17T13:58:52.494054Z",
     "iopub.status.busy": "2022-05-17T13:58:52.493403Z",
     "iopub.status.idle": "2022-05-17T13:58:52.49943Z",
     "shell.execute_reply": "2022-05-17T13:58:52.498101Z",
     "shell.execute_reply.started": "2022-05-17T13:58:52.494012Z"
    },
    "papermill": {
     "duration": 0.017286,
     "end_time": "2022-06-08T14:36:55.051238",
     "exception": false,
     "start_time": "2022-06-08T14:36:55.033952",
     "status": "completed"
    },
    "tags": []
   },
   "source": [
    "# Numerical methods for solving IVP's\n",
    "\n",
    "IVP (initial value problem) is an ODE given with an initial condition, which is the value of the unknown function at a point in its domain. An IVP can be denoted as below:\n",
    "\n",
    "$$u'(x)=f(x,u(x)) \\\\ u\\left( x_{0} \\right) = u_{0}$$\n",
    "\n",
    "This notebook will only be about popular numerical methods for solving IVPs. There are different methods for solving BVPs (boundary value problems).\n",
    "\n",
    "We can use numerical methods to approximate IVP's with ODEs that can't be solved using analytical methods."
   ]
  },
  {
   "cell_type": "markdown",
   "id": "35eedbdc",
   "metadata": {
    "papermill": {
     "duration": 0.017102,
     "end_time": "2022-06-08T14:36:55.085901",
     "exception": false,
     "start_time": "2022-06-08T14:36:55.068799",
     "status": "completed"
    },
    "tags": []
   },
   "source": [
    "## Lipschitz condition\n",
    "\n",
    "It is important to know if the given IVP has a solution and whether if this solution is unique. Given $R={(x, u): x_0 \\le x \\le b, c \\le u \\le d} \\subseteq \\mathbb{R}$, suppose that $f(x,u)$ is continuous on $R$. If $f(x,u)$ satisfies the Lipschitz condition on $R$ in the variable $u$, then the IVP has a unique solution $u(x)$ for  $x_0 \\le x \\le b$ and $c \\le u \\le d$.\n",
    "\n",
    "$f(x,u)$ satisfies a Lipschitz condition in the variable $u$ on $\\mathbb{R}$ if a constant $L \\gt 0$ exists such that $|f(x,u_1)-f(x,u_2)| \\le L|u_1-u_2|$ for $(x,u_1),(x,u_2) \\in R$. $L$ is called the Lipschitz constant.\n",
    "\n",
    "An alternative characterization of the Lipschitz constant is, suppose $f(x,u)$ is defined on $R$. If there is a constant $L \\gt 0$ such that \n",
    "\n",
    "$$\n",
    "\\left|\\frac{df(x,u)}{du}\\right| \\le L  \\text{, for all } (x,u) \\in \\mathbb{R}$$\n",
    "\n",
    "then Lipschitz condition is satisfied with the Lipschitz constant $L$."
   ]
  },
  {
   "cell_type": "markdown",
   "id": "e2def653",
   "metadata": {
    "papermill": {
     "duration": 0.015687,
     "end_time": "2022-06-08T14:36:55.117491",
     "exception": false,
     "start_time": "2022-06-08T14:36:55.101804",
     "status": "completed"
    },
    "tags": []
   },
   "source": [
    "## Euler's method\n",
    "Euler's method approximates values of unknown function $u$ using tangent lines. Firstly, the x axis is divided into $n$ intervals of length of $h$ such that $x_{n}=x_{0} + nh=x_{n-1}+h$. Then, for each beginning point $x_{n}$ of these intervals, a line $v$ that is tangent to the curve of the unknown $u=u(x)$ is considered. $v_{n+1}$, the value of $v$ at the terminal point of the interval, $x_{n+1}$ is the approximation of $u$ at $x_{n+1}$. The approximation can be formulated as below:\n",
    "$$u(x_{n+1}) \\approx v_{n+1}=v_{n}+hf(x_n, v(x_n))\\\\ v_0=u(x_0)=u_0$$\n",
    "\n",
    "The last term in the above formula, $hf(x, u(x))$ is the vertical length of the small triangle created by the tangent line between $x_{n}$ and $x_{n+1}$. If we call this height $H$, $H/h=tan(\\theta)=u'=f(x,u(x))$, thus when both sides are multiplied by $h$, the last term is obtained.\n",
    "\n",
    "Larger values of $n$ and smaller values of $h$ will lead to more accurate approximations."
   ]
  },
  {
   "cell_type": "code",
   "execution_count": 1,
   "id": "68d1b13c",
   "metadata": {
    "execution": {
     "iopub.execute_input": "2022-06-08T14:36:55.151693Z",
     "iopub.status.busy": "2022-06-08T14:36:55.151229Z",
     "iopub.status.idle": "2022-06-08T14:36:55.163697Z",
     "shell.execute_reply": "2022-06-08T14:36:55.162903Z"
    },
    "papermill": {
     "duration": 0.031932,
     "end_time": "2022-06-08T14:36:55.165952",
     "exception": false,
     "start_time": "2022-06-08T14:36:55.134020",
     "status": "completed"
    },
    "tags": []
   },
   "outputs": [],
   "source": [
    "def EulerMethod(x0, u0, h, n, f):\n",
    "    x = [x0 + _n*h for _n in range(0, n+2)]\n",
    "    v = [0 for i in range(0, n+2)]\n",
    "    v[0] = u0\n",
    "    \n",
    "    for _n in range(1, n+2):\n",
    "        v[_n] = v[_n-1] + h * f(x[_n-1], v[_n-1])\n",
    "        \n",
    "    return v"
   ]
  },
  {
   "cell_type": "markdown",
   "id": "5b2ce175",
   "metadata": {
    "papermill": {
     "duration": 0.016035,
     "end_time": "2022-06-08T14:36:55.198823",
     "exception": false,
     "start_time": "2022-06-08T14:36:55.182788",
     "status": "completed"
    },
    "tags": []
   },
   "source": [
    "**Example:** Given $u'=x-u$ and $(x_0, u_0)=(0, 1)$. Approximate values of u at $0.1$, $0.2$ and $0.3$ using Euler's method. Here, $f(x,u(x))=x-u$ and $h=0.1$."
   ]
  },
  {
   "cell_type": "code",
   "execution_count": 2,
   "id": "171c7b78",
   "metadata": {
    "execution": {
     "iopub.execute_input": "2022-06-08T14:36:55.232561Z",
     "iopub.status.busy": "2022-06-08T14:36:55.231782Z",
     "iopub.status.idle": "2022-06-08T14:36:55.237226Z",
     "shell.execute_reply": "2022-06-08T14:36:55.236305Z"
    },
    "papermill": {
     "duration": 0.025892,
     "end_time": "2022-06-08T14:36:55.240758",
     "exception": false,
     "start_time": "2022-06-08T14:36:55.214866",
     "status": "completed"
    },
    "tags": []
   },
   "outputs": [
    {
     "name": "stdout",
     "output_type": "stream",
     "text": [
      "[1, 0.9, 0.8200000000000001, 0.758]\n"
     ]
    }
   ],
   "source": [
    "f = lambda x, u: x - u\n",
    "\n",
    "#There are 2 intervals, (0.1, 0.2) and (0.2 , 0.3)\n",
    "approximations = EulerMethod(0, 1, 0.1, 2, f)\n",
    "print(approximations)"
   ]
  },
  {
   "cell_type": "markdown",
   "id": "cab1a968",
   "metadata": {
    "papermill": {
     "duration": 0.016824,
     "end_time": "2022-06-08T14:36:55.279988",
     "exception": false,
     "start_time": "2022-06-08T14:36:55.263164",
     "status": "completed"
    },
    "tags": []
   },
   "source": [
    "## Heun's method \n",
    "\n",
    "Heun's method is an attempt to reduce error of Euler's method without changing $n$ and $h$. Using the fundamental theorem of calculus, we know that:\n",
    "\n",
    "$$\\int_{x_n}^{x_{n+1}}f(x,u(x))dx = \\int_{x_n}^{x_{n+1}}\\frac{du}{dx}dx = u(x_{n+1})-u(x_n)$$\n",
    "\n",
    "We don't know the value of $u(x_{n+1})$, so we use an approximation for it using the Euler's method, and use trapezoid rule for approximating the integral on the leftmost side of the equality above. Thus we formulize the Heun's method as:\n",
    "\n",
    "$$u(x_{n+1})\\approx v_{n+1} = v_{n} + \\frac{h}{2} \\left[f(x_n,v(x_n)) + f(x_{n+1},v(x_n)+hf(x_n, v(x_n))\\right]\\\\ v_0=u(x_0)=u_0$$"
   ]
  },
  {
   "cell_type": "code",
   "execution_count": 3,
   "id": "a064d09a",
   "metadata": {
    "execution": {
     "iopub.execute_input": "2022-06-08T14:36:55.327968Z",
     "iopub.status.busy": "2022-06-08T14:36:55.327534Z",
     "iopub.status.idle": "2022-06-08T14:36:55.334530Z",
     "shell.execute_reply": "2022-06-08T14:36:55.333564Z"
    },
    "papermill": {
     "duration": 0.031999,
     "end_time": "2022-06-08T14:36:55.336993",
     "exception": false,
     "start_time": "2022-06-08T14:36:55.304994",
     "status": "completed"
    },
    "tags": []
   },
   "outputs": [],
   "source": [
    "def HeunMethod(x0, u0, h, n, f):\n",
    "    x = [x0 + _n*h for _n in range(0, n+2)]\n",
    "    v = [0 for i in range(0, n+2)]\n",
    "    v[0] = u0\n",
    "\n",
    "    for _n in range(1, n+2):\n",
    "        v[_n] = v[_n-1] + (h/2) * (f(x[_n-1], v[_n-1]) + f(x[_n], v[_n-1]+ h * f(x[_n-1], v[_n-1])))\n",
    "        \n",
    "    return v"
   ]
  },
  {
   "cell_type": "markdown",
   "id": "d0fe50db",
   "metadata": {
    "papermill": {
     "duration": 0.018318,
     "end_time": "2022-06-08T14:36:55.376686",
     "exception": false,
     "start_time": "2022-06-08T14:36:55.358368",
     "status": "completed"
    },
    "tags": []
   },
   "source": [
    "**Example:** Given the same IVP above, let's approximate the same points again using Heun's method."
   ]
  },
  {
   "cell_type": "code",
   "execution_count": 4,
   "id": "0b7e6b95",
   "metadata": {
    "execution": {
     "iopub.execute_input": "2022-06-08T14:36:55.411751Z",
     "iopub.status.busy": "2022-06-08T14:36:55.411042Z",
     "iopub.status.idle": "2022-06-08T14:36:55.416454Z",
     "shell.execute_reply": "2022-06-08T14:36:55.415350Z"
    },
    "papermill": {
     "duration": 0.024591,
     "end_time": "2022-06-08T14:36:55.418284",
     "exception": false,
     "start_time": "2022-06-08T14:36:55.393693",
     "status": "completed"
    },
    "tags": []
   },
   "outputs": [
    {
     "name": "stdout",
     "output_type": "stream",
     "text": [
      "[1, 0.91, 0.8380500000000001, 0.78243525]\n"
     ]
    }
   ],
   "source": [
    "approximations = HeunMethod(0, 1, 0.1, 2, f)\n",
    "print(approximations)"
   ]
  },
  {
   "cell_type": "markdown",
   "id": "992d1346",
   "metadata": {
    "papermill": {
     "duration": 0.016278,
     "end_time": "2022-06-08T14:36:55.451716",
     "exception": false,
     "start_time": "2022-06-08T14:36:55.435438",
     "status": "completed"
    },
    "tags": []
   },
   "source": [
    "## Picard's method\n",
    "Deriving a bounded function may result in an unbounded function whose value exceeds a number at any point. Derivative of functions like this may have fastly increasing or decreasing values. This makes finite difference approximations for these functions problematic. Same characteristic is observed with solutions of differential equations, when they become unbounded at some point. Picard's method handles this by expressing the IVP as an integral equation.\n",
    "\n",
    "Picard's method is an iterative/successive method for solving IVPs. This means with each succession the approximation becomes more accurate and coverges to the actual result.\n",
    "\n",
    "An IVP can be written in an integral equation form: \n",
    "\n",
    "$$u(x) \\approx \\phi_{n+1}(x)=u(x_0)+\\int_{x_0}^{x}f(t,\\phi_{n}(t))dt\\\\ \\lim_{n \\to \\infty}\\phi_n(x)=u(x) \\\\ \\phi_0=u(x_0)=u_0$$"
   ]
  },
  {
   "cell_type": "code",
   "execution_count": 5,
   "id": "101cf449",
   "metadata": {
    "execution": {
     "iopub.execute_input": "2022-06-08T14:36:55.486394Z",
     "iopub.status.busy": "2022-06-08T14:36:55.485548Z",
     "iopub.status.idle": "2022-06-08T14:36:56.438971Z",
     "shell.execute_reply": "2022-06-08T14:36:56.438095Z"
    },
    "papermill": {
     "duration": 0.973063,
     "end_time": "2022-06-08T14:36:56.441173",
     "exception": false,
     "start_time": "2022-06-08T14:36:55.468110",
     "status": "completed"
    },
    "tags": []
   },
   "outputs": [],
   "source": [
    "from sympy import *\n",
    "\n",
    "def PicardMethod(x0, u0, f, _x, n_iterations):\n",
    "    x, t = symbols('x t')\n",
    "    approximation = u0 + 0*x\n",
    "    \n",
    "    for i in range(n_iterations):\n",
    "        integrand = f.subs([(x, t),(u,approximation.subs(x, t))])\n",
    "        approximation = u0 + integrate(integrand, (t, x0, x))\n",
    "    \n",
    "    return approximation.subs(x, _x)"
   ]
  },
  {
   "cell_type": "markdown",
   "id": "ab9b2d17",
   "metadata": {
    "papermill": {
     "duration": 0.017717,
     "end_time": "2022-06-08T14:36:56.476191",
     "exception": false,
     "start_time": "2022-06-08T14:36:56.458474",
     "status": "completed"
    },
    "tags": []
   },
   "source": [
    "**Example:** Given the same IVP above, let's approximate same points again using Picard's method for 50 iterations."
   ]
  },
  {
   "cell_type": "code",
   "execution_count": 6,
   "id": "06902071",
   "metadata": {
    "execution": {
     "iopub.execute_input": "2022-06-08T14:36:56.512965Z",
     "iopub.status.busy": "2022-06-08T14:36:56.511956Z",
     "iopub.status.idle": "2022-06-08T14:36:59.084489Z",
     "shell.execute_reply": "2022-06-08T14:36:59.083835Z"
    },
    "papermill": {
     "duration": 2.593906,
     "end_time": "2022-06-08T14:36:59.086881",
     "exception": false,
     "start_time": "2022-06-08T14:36:56.492975",
     "status": "completed"
    },
    "tags": []
   },
   "outputs": [
    {
     "name": "stdout",
     "output_type": "stream",
     "text": [
      "0.909674836071919\n",
      "0.837461506155964\n",
      "0.781636441363436\n"
     ]
    }
   ],
   "source": [
    "x,u = symbols('x, u')\n",
    "f = x - u\n",
    "\n",
    "print(PicardMethod(0, 1, f, 0.1, 50))\n",
    "print(PicardMethod(0, 1, f, 0.2, 50))\n",
    "print(PicardMethod(0, 1, f, 0.3, 50))"
   ]
  },
  {
   "cell_type": "markdown",
   "id": "78abd42c",
   "metadata": {
    "papermill": {
     "duration": 0.018513,
     "end_time": "2022-06-08T14:36:59.124271",
     "exception": false,
     "start_time": "2022-06-08T14:36:59.105758",
     "status": "completed"
    },
    "tags": []
   },
   "source": [
    "## Taylor's method of higher orders\n",
    "\n",
    "This method approximates the solution/unknown function $u(x)$ by expressing it as $m^{th}$ order Taylor polynomial.\n",
    "\n",
    "$$\n",
    "u(x_{n+1}) = u(x_n) + \\left[\\sum_{i=1}^{m} \\frac{u^{(i)}(x_n)(x_{n+1}-x_n)^{m+1}}{i!}\\right] + \\frac{u^{(m+1)}(\\xi)(x_{n+1}-x_n)^{m+1}}{(m+1)!}\n",
    "$$\n",
    "\n",
    "Knowing that $u'=f(x,u)$, we know that $u''=f'(x,u), u''=f'''(x,u), \\ldots, u^{(n)}=f^{(n-1)}(x,u)$. If we substitute $u$'s with respective $f$'s and omit the truncation term (which is the rightmost term on the expansion above), we obtain:\n",
    "\n",
    "$$u(x_{n+1}) \\approx v(x_{n+1}) = v(x_n) + \\left[\\sum_{i=1}^{m} \\frac{f^{(i-1)}(x_n, v(x_n))(x_{n+1}-x_n)^i}{i!}\\right] \\\\\n",
    "v(x_0) = u(x_0) = u_0 \\\\\n",
    "x_{n+1}-x_n=h$$"
   ]
  },
  {
   "cell_type": "code",
   "execution_count": 7,
   "id": "9ff1eb5b",
   "metadata": {
    "execution": {
     "iopub.execute_input": "2022-06-08T14:36:59.163533Z",
     "iopub.status.busy": "2022-06-08T14:36:59.162684Z",
     "iopub.status.idle": "2022-06-08T14:36:59.170305Z",
     "shell.execute_reply": "2022-06-08T14:36:59.169603Z"
    },
    "papermill": {
     "duration": 0.030117,
     "end_time": "2022-06-08T14:36:59.172823",
     "exception": false,
     "start_time": "2022-06-08T14:36:59.142706",
     "status": "completed"
    },
    "tags": []
   },
   "outputs": [],
   "source": [
    "def TaylorMethod(x0, u0, h, n, f, order):\n",
    "    x, u = symbols('x u')\n",
    "    _x = [x0 + _n*h for _n in range(n+2)]\n",
    "    _v = [0 for _n in range(n+2)]\n",
    "    _v[0] = u0\n",
    "    \n",
    "    for _n in range(1, n+2):\n",
    "        taylor = 0\n",
    "        \n",
    "        for i in range(1, order+1):\n",
    "            deriv = f.diff(x, i-1, u, i-1).subs([(x,_x[_n-1]),(u,_v[_n-1])])\n",
    "            taylor += (deriv * h**i)/factorial(i)\n",
    "            \n",
    "        _v[_n] = _v[_n-1] + taylor\n",
    "    \n",
    "    return _v"
   ]
  },
  {
   "cell_type": "markdown",
   "id": "2c95f839",
   "metadata": {
    "papermill": {
     "duration": 0.018006,
     "end_time": "2022-06-08T14:36:59.209993",
     "exception": false,
     "start_time": "2022-06-08T14:36:59.191987",
     "status": "completed"
    },
    "tags": []
   },
   "source": [
    "**Example:** Given the same IVP above, let's approximate the same points again using Taylor's method of 3rd order."
   ]
  },
  {
   "cell_type": "code",
   "execution_count": 8,
   "id": "797efe70",
   "metadata": {
    "execution": {
     "iopub.execute_input": "2022-06-08T14:36:59.246823Z",
     "iopub.status.busy": "2022-06-08T14:36:59.246000Z",
     "iopub.status.idle": "2022-06-08T14:36:59.258888Z",
     "shell.execute_reply": "2022-06-08T14:36:59.258013Z"
    },
    "papermill": {
     "duration": 0.033446,
     "end_time": "2022-06-08T14:36:59.260938",
     "exception": false,
     "start_time": "2022-06-08T14:36:59.227492",
     "status": "completed"
    },
    "tags": []
   },
   "outputs": [
    {
     "name": "stdout",
     "output_type": "stream",
     "text": [
      "[1, 0.900000000000000, 0.820000000000000, 0.758000000000000]\n"
     ]
    }
   ],
   "source": [
    "print(TaylorMethod(0, 1, 0.1, 2, f, 3))"
   ]
  },
  {
   "cell_type": "markdown",
   "id": "89bf7fec",
   "metadata": {
    "execution": {
     "iopub.execute_input": "2022-05-18T00:43:58.788636Z",
     "iopub.status.busy": "2022-05-18T00:43:58.7884Z",
     "iopub.status.idle": "2022-05-18T00:43:58.792157Z",
     "shell.execute_reply": "2022-05-18T00:43:58.79146Z",
     "shell.execute_reply.started": "2022-05-18T00:43:58.788608Z"
    },
    "papermill": {
     "duration": 0.018339,
     "end_time": "2022-06-08T14:36:59.297634",
     "exception": false,
     "start_time": "2022-06-08T14:36:59.279295",
     "status": "completed"
    },
    "tags": []
   },
   "source": [
    "## Runge-Kutta method of 4th order\n",
    "\n",
    "Taylor's method requires computation of derivatives of $f$. The Runge-Kutta methods avoid this difficulty by mimicking Taylor's method. Let us denote the approximation formula of Taylor's method of order m $T_m(x_n)$. This method can be formulated as:\n",
    "\n",
    "$$u_{n+1} \\approx T_m(x_n) \\approx v(x_{n+1}) = v(x_n) + (w_1K_1+w_2K_2+ \\ldots +w_mK_m) \\\\ v(x_0) = u(x_0) = u_0$$\n",
    "\n",
    "where $w_1, w_2, \\ldots, w_n$ are parameters which must be determined such that $\\sum_nw_n=1$. $K_1, K_2, \\ldots, K_n$ are recursive evaluations of approximations of the slope of $u(x)$. "
   ]
  },
  {
   "cell_type": "markdown",
   "id": "e249502a",
   "metadata": {
    "papermill": {
     "duration": 0.017685,
     "end_time": "2022-06-08T14:36:59.333164",
     "exception": false,
     "start_time": "2022-06-08T14:36:59.315479",
     "status": "completed"
    },
    "tags": []
   },
   "source": [
    "Runge-Kutta method of order 4 (RK4) is the most commonly used Runge-Kutta method. Like Taylor's method, we start off by using fundamental theorem of calculus but approximating the integral of $f(x,u)$ using Simpson's method this time. \n",
    "$$u(x_{n+1})-u(x_n) \\approx \\frac{h}{6} \\left[f(x_n, u(x_n)) + 4f(x_n + \\frac{h}{2}, u(x_n + \\frac{h}{2})) + f(x_{n+1}, u(x_{n+1}))\\right] (\\star)$$ \n",
    "\n",
    "Then, we divide our $x$ axis into two intervals, $(x_n, x_n+\\frac{h}{2})$ and $(x_n+\\frac{h}{2}, x_{n+1})$. Then we recursively approximate slope values at remaining points on the intervals. $K_1$ is the actual slope at point $(x_n, u_n)$ since we know $u'=f(x,u)$. $K_2$ and $K_3$ are used to approximate slope at the midpoint. $K_4$ is the approximation of the slope at terminal point $(x_{n+1}, u_{n+1})$. \n",
    "\n",
    "$$K_1 = f(x_n, u(x_n))\\\\\n",
    "K_2 = f(x_n + \\frac{h}{2}, u_n + \\frac{h}{2}K_1)\\\\\n",
    "K_3 = f(x_n + \\frac{h}{2}, u_n + \\frac{h}{2}K_2)\\\\\n",
    "K_4 = f(x_{n}+h, u_n + hK_3))\\\\ \n",
    "f(x_n+\\frac{h}{2}, u(x_n+\\frac{h}{2})) = \\frac{K_2+K_3}{2}$$ \n",
    "\n",
    "Substituting these values on the equation $(\\star)$ , we obtain:\n",
    "$$u(x_{n+1}) \\approx v(x_{n+1}) = v(x_n) + \\frac{h}{6} \\left[K_1+2K_2+2K_3+K_4 \\right]\n",
    "\\\\ v(x_0) = u(x_0) = u_0\n",
    "$$\n",
    "\n"
   ]
  },
  {
   "cell_type": "code",
   "execution_count": 9,
   "id": "db83fbbc",
   "metadata": {
    "execution": {
     "iopub.execute_input": "2022-06-08T14:36:59.371628Z",
     "iopub.status.busy": "2022-06-08T14:36:59.371063Z",
     "iopub.status.idle": "2022-06-08T14:36:59.378173Z",
     "shell.execute_reply": "2022-06-08T14:36:59.377481Z"
    },
    "papermill": {
     "duration": 0.028909,
     "end_time": "2022-06-08T14:36:59.380181",
     "exception": false,
     "start_time": "2022-06-08T14:36:59.351272",
     "status": "completed"
    },
    "tags": []
   },
   "outputs": [],
   "source": [
    "def RK4(x0, u0, h, n, f):\n",
    "    x = [x0 + _n*h for _n in range(0, n+2)]\n",
    "    v = [0 for i in range(0, n+2)]\n",
    "    v[0] = u0\n",
    "    \n",
    "    for _n in range(1, n+2):\n",
    "        K1 = f((x[_n-1]), (v[_n-1]))\n",
    "        K2 = f((x[_n-1]+h/2), (v[_n-1]+K1*h/2))\n",
    "        K3 = f((x[_n-1]+h/2), (v[_n-1]+K2*h/2))\n",
    "        K4 = f((x[_n-1]+h), (v[_n-1]+h*K3))\n",
    "        \n",
    "        v[_n] = v[_n-1] + (h/6)*(K1+2*K2+2*K3+K4)\n",
    "        \n",
    "    return v"
   ]
  },
  {
   "cell_type": "markdown",
   "id": "9d1ed0ea",
   "metadata": {
    "papermill": {
     "duration": 0.020356,
     "end_time": "2022-06-08T14:36:59.419418",
     "exception": false,
     "start_time": "2022-06-08T14:36:59.399062",
     "status": "completed"
    },
    "tags": []
   },
   "source": [
    "**Example:** Given the same IVP above, let's approximate the same points again using Runge-Kutta method of 4th order:"
   ]
  },
  {
   "cell_type": "code",
   "execution_count": 10,
   "id": "dde8d163",
   "metadata": {
    "execution": {
     "iopub.execute_input": "2022-06-08T14:36:59.457905Z",
     "iopub.status.busy": "2022-06-08T14:36:59.457385Z",
     "iopub.status.idle": "2022-06-08T14:36:59.461659Z",
     "shell.execute_reply": "2022-06-08T14:36:59.461008Z"
    },
    "papermill": {
     "duration": 0.02557,
     "end_time": "2022-06-08T14:36:59.463566",
     "exception": false,
     "start_time": "2022-06-08T14:36:59.437996",
     "status": "completed"
    },
    "tags": []
   },
   "outputs": [
    {
     "name": "stdout",
     "output_type": "stream",
     "text": [
      "[1, 0.909675, 0.8374618028125, 0.7816368440023556]\n"
     ]
    }
   ],
   "source": [
    "f = lambda x, u: x - u\n",
    "print(RK4(0, 1, 0.1, 2, f))"
   ]
  },
  {
   "cell_type": "markdown",
   "id": "908f260d",
   "metadata": {
    "papermill": {
     "duration": 0.018472,
     "end_time": "2022-06-08T14:36:59.500951",
     "exception": false,
     "start_time": "2022-06-08T14:36:59.482479",
     "status": "completed"
    },
    "tags": []
   },
   "source": [
    "## Exact solution\n",
    "\n",
    "Exact solution to the example IVP is:\n",
    "$$u(x)=x+2e^{-x}-1$$\n",
    "\n",
    "The exact values at points $0.1$, $0.2$ and $0.3$ are:"
   ]
  },
  {
   "cell_type": "code",
   "execution_count": 11,
   "id": "da7d0b2e",
   "metadata": {
    "execution": {
     "iopub.execute_input": "2022-06-08T14:36:59.540495Z",
     "iopub.status.busy": "2022-06-08T14:36:59.540208Z",
     "iopub.status.idle": "2022-06-08T14:36:59.547248Z",
     "shell.execute_reply": "2022-06-08T14:36:59.546584Z"
    },
    "papermill": {
     "duration": 0.03036,
     "end_time": "2022-06-08T14:36:59.549920",
     "exception": false,
     "start_time": "2022-06-08T14:36:59.519560",
     "status": "completed"
    },
    "tags": []
   },
   "outputs": [
    {
     "name": "stdout",
     "output_type": "stream",
     "text": [
      "x: 0.1 u(x): 0.909674836071919\n",
      "x: 0.2 u(x): 0.837461506155964\n",
      "x: 0.30000000000000004 u(x): 0.781636441363436\n"
     ]
    }
   ],
   "source": [
    "exact = lambda x: x + 2 * exp(-x) - 1 \n",
    "\n",
    "for x in range(1, 4):\n",
    "    x *= 0.1\n",
    "    print(f\"x: {x} u(x): {exact(x)}\")"
   ]
  },
  {
   "cell_type": "markdown",
   "id": "9212b903",
   "metadata": {
    "execution": {
     "iopub.execute_input": "2022-05-19T22:52:12.397636Z",
     "iopub.status.busy": "2022-05-19T22:52:12.397308Z",
     "iopub.status.idle": "2022-05-19T22:52:12.402331Z",
     "shell.execute_reply": "2022-05-19T22:52:12.401405Z",
     "shell.execute_reply.started": "2022-05-19T22:52:12.397603Z"
    },
    "papermill": {
     "duration": 0.01996,
     "end_time": "2022-06-08T14:36:59.588954",
     "exception": false,
     "start_time": "2022-06-08T14:36:59.568994",
     "status": "completed"
    },
    "tags": []
   },
   "source": [
    "## Result comparison\n",
    "\n",
    "| Method | x=0.1 | x=0.2 | x=0.3 | \n",
    "| --- | --- | --- | --- |\n",
    "| Exact solution | 0.909674836071919 | 0.837461506155964 | 0.781636441363436 |\n",
    "| Euler's method | 0.9 | 0.8200000000000001 | 0.758 |\n",
    "| Heun's method | 0.91 | 0.8380500000000001 | 0.78243525 |\n",
    "| Picard's method (n=50) | 0.909674836071919 | 0.837461506155964 | 0.781636441363436 |\n",
    "| Taylor's method (3rd order) | 0.900000000000000 | 0.820000000000000 | 0.758000000000000 |\n",
    "| RK4 | 0.909675 | 0.8374618028125 | 0.7816368440023556 |"
   ]
  }
 ],
 "metadata": {
  "kernelspec": {
   "display_name": "Python 3",
   "language": "python",
   "name": "python3"
  },
  "language_info": {
   "codemirror_mode": {
    "name": "ipython",
    "version": 3
   },
   "file_extension": ".py",
   "mimetype": "text/x-python",
   "name": "python",
   "nbconvert_exporter": "python",
   "pygments_lexer": "ipython3",
   "version": "3.7.12"
  },
  "papermill": {
   "default_parameters": {},
   "duration": 14.254988,
   "end_time": "2022-06-08T14:37:00.431998",
   "environment_variables": {},
   "exception": null,
   "input_path": "__notebook__.ipynb",
   "output_path": "__notebook__.ipynb",
   "parameters": {},
   "start_time": "2022-06-08T14:36:46.177010",
   "version": "2.3.4"
  }
 },
 "nbformat": 4,
 "nbformat_minor": 5
}
